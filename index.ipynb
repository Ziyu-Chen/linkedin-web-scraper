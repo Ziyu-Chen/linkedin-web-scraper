{
 "cells": [
  {
   "cell_type": "code",
   "execution_count": 1,
   "metadata": {},
   "outputs": [],
   "source": [
    "from selenium import webdriver\n",
    "import time\n",
    "import argparse\n",
    "import os\n",
    "import re\n",
    "import numpy as np\n",
    "import pandas as pd\n",
    "import bs4\n",
    "import requests\n",
    "import random\n",
    "from selenium.common.exceptions import NoSuchElementException\n",
    "import datetime"
   ]
  },
  {
   "cell_type": "code",
   "execution_count": 3,
   "metadata": {},
   "outputs": [],
   "source": [
    "companies = pd.read_csv('/Users/ZiyuChen/assignment/linkedin-web-scraper/companies.csv')"
   ]
  },
  {
   "cell_type": "code",
   "execution_count": 11,
   "metadata": {},
   "outputs": [
    {
     "data": {
      "text/plain": [
       "'https://www.linkedin.com/in/matthew-franklin-product/'"
      ]
     },
     "execution_count": 11,
     "metadata": {},
     "output_type": "execute_result"
    }
   ],
   "source": [
    "companies.iloc[0]['officer_linkedin']"
   ]
  },
  {
   "cell_type": "code",
   "execution_count": 15,
   "metadata": {},
   "outputs": [],
   "source": [
    "def set_driver():\n",
    "    # Define Chrome options to open the window in maximized mode\n",
    "    options = webdriver.ChromeOptions()\n",
    "    options.add_argument(\"--start-maximized\")\n",
    "\n",
    "    #Anti-web-scraping\n",
    "    options.add_experimental_option('excludeSwitches', ['enable-automation'])\n",
    "\n",
    "    # Initialize the Chrome webdriver and open the URL\n",
    "    driver = webdriver.Chrome(options=options, executable_path='/Users/ZiyuChen/Desktop/chromedriver')\n",
    "    \n",
    "    return driver"
   ]
  },
  {
   "cell_type": "code",
   "execution_count": 16,
   "metadata": {},
   "outputs": [],
   "source": [
    "def load_page(url, pause_time = 1):\n",
    "    driver.get(url)\n",
    "\n",
    "    # Get scroll height\n",
    "    last_height = driver.execute_script(\"return document.body.scrollHeight\")\n",
    "\n",
    "    # Record the starting time\n",
    "    start = datetime.datetime.now()\n",
    "\n",
    "    while True:\n",
    "        # Scroll down to bottom\n",
    "        driver.execute_script(\"window.scrollTo(0, document.body.scrollHeight);\")\n",
    "\n",
    "        # wait to load page\n",
    "        time.sleep(pause_time)\n",
    "\n",
    "        # Calculate new scroll height and compare with last scroll height\n",
    "        new_height = driver.execute_script(\"return document.body.scrollHeight\")\n",
    "        if new_height == last_height: # which means end of page\n",
    "            break\n",
    "\n",
    "        # update the last height\n",
    "        last_height = new_height\n",
    " \n",
    "    driver.execute_script(\"window.scrollTo(0, 0);\")\n",
    "    \n",
    "    # Record the end time, then calculate and print the total time\n",
    "    end = datetime.datetime.now()\n",
    "    delta = end-start\n",
    "    print(\"Took {} to fully load {}\".format(delta, url))"
   ]
  },
  {
   "cell_type": "code",
   "execution_count": 37,
   "metadata": {},
   "outputs": [],
   "source": [
    "def login(email, password):\n",
    "    # Load Linked-in's signin page:\n",
    "    load_page('https://www.linkedin.com/login?fromSignIn=true&trk=guest_homepage-basic_nav-header-signin')\n",
    "    # Select the username input\n",
    "    username_input = driver.find_element_by_id('username')\n",
    "    # Fill in the user email\n",
    "    username_input.clear()\n",
    "    username_input.send_keys(email)\n",
    "    # Select the password input\n",
    "    password_input = driver.find_element_by_id('password')\n",
    "    # Fill in the password\n",
    "    password_input.clear()\n",
    "    password_input.send_keys(password)\n",
    "    # Select the signin button:\n",
    "    signin_button = driver.find_element_by_class_name('login__form_action_container ').find_element_by_class_name('btn__primary--large')\n",
    "    signin_button.click()\n",
    "\n",
    "def get_officer_data(company):\n",
    "    load_page(company['officer_linkedin'])\n",
    "    get_officer_experience_list()\n",
    "    load_page(company['officer_linkedin']+'detail/photo/')\n",
    "    get_officer_photo()\n",
    "    \n",
    "\n",
    "def get_officer_photo():\n",
    "    try:\n",
    "        profile_url = driver.find_element_by_class_name('pv-member-photo-modal__profile-image').get_attribute(\"src\")\n",
    "    except NoSuchElementException:\n",
    "        profile_url = None\n",
    "    print(profile_url)\n",
    "\n",
    "def get_officer_experience_list():\n",
    "    try:\n",
    "        experience_list_el = driver.find_element_by_id('experience-section').find_elements_by_class_name('pv-profile-section__list-item')\n",
    "        for experience_el in experience_list_el:\n",
    "            experience = get_officer_experience(experience_el)\n",
    "            print(experience)\n",
    "    except NoSuchElementException:\n",
    "        print('Cannot access officer experience')\n",
    "        pass\n",
    "\n",
    "def get_officer_experience(experience_el):\n",
    "    experience = {\n",
    "        'job_company': None,\n",
    "        'job_title': None,\n",
    "        'job_time': None,\n",
    "        'job_duration': None,\n",
    "        'job_location': None\n",
    "    }\n",
    "    experience_el = experience_el.find_element_by_class_name('pv-entity__summary-info--background-section')\n",
    "    \n",
    "    # Get company\n",
    "    try:\n",
    "        company = experience_el.find_element_by_class_name('pv-entity__secondary-title').text\n",
    "        experience['job_company'] = company\n",
    "    except NoSuchElementException:\n",
    "        pass\n",
    "    \n",
    "    # Get title\n",
    "    try:\n",
    "        title = experience_el.find_element_by_class_name('t-16').text\n",
    "        experience['job_title'] = title\n",
    "    except NoSuchElementException:\n",
    "        pass\n",
    "    \n",
    "    # Get time\n",
    "    try:\n",
    "        time = experience_el.find_element_by_class_name('pv-entity__date-range').text.replace('Dates Employed', '').strip()\n",
    "        experience['job_time'] = time\n",
    "    except NoSuchElementException:\n",
    "        pass\n",
    "    \n",
    "    # Get duration\n",
    "    try:\n",
    "        duration = experience_el.find_element_by_class_name('pv-entity__bullet-item-v2').text\n",
    "        experience['job_duration'] = duration\n",
    "    except NoSuchElementException:\n",
    "        pass\n",
    "    \n",
    "    # Get location\n",
    "    try:\n",
    "        location = experience_el.find_element_by_class_name('pv-entity__location').text.replace('Location', '').strip()\n",
    "        experience['job_location'] = location\n",
    "    except NoSuchElementException:\n",
    "        pass\n",
    "    \n",
    "    return experience\n",
    "        "
   ]
  },
  {
   "cell_type": "code",
   "execution_count": 38,
   "metadata": {},
   "outputs": [
    {
     "name": "stderr",
     "output_type": "stream",
     "text": [
      "/Users/ZiyuChen/anaconda3/lib/python3.6/site-packages/ipykernel_launcher.py:10: DeprecationWarning: use options instead of chrome_options\n",
      "  # Remove the CWD from sys.path while we load stuff.\n"
     ]
    },
    {
     "name": "stdout",
     "output_type": "stream",
     "text": [
      "Took 0:00:01.029676 to fully load https://www.linkedin.com/login?fromSignIn=true&trk=guest_homepage-basic_nav-header-signin\n",
      "Took 0:00:03.064331 to fully load https://www.linkedin.com/in/daniil-voloshin-10467277/\n",
      "{'job_company': 'EMIBA', 'job_title': 'Chief Executive Officer', 'job_time': 'Sep 2017 – Present', 'job_duration': '2 yrs 6 mos', 'job_location': 'Chelyabinsk, Russia'}\n",
      "{'job_company': 'Castle Family Office', 'job_title': 'Partner', 'job_time': 'May 2017 – Aug 2019', 'job_duration': '2 yrs 4 mos', 'job_location': 'Central Singapore'}\n",
      "Took 0:00:01.023568 to fully load https://www.linkedin.com/in/daniil-voloshin-10467277/detail/photo/\n",
      "https://media-exp1.licdn.com/dms/image/C4E03AQHMLTGWUrnZuQ/profile-displayphoto-shrink_800_800/0?e=1588204800&v=beta&t=sYDPuopm_j05cNEtQkHl1vnHteMQ3VqkHYL_kKTrsEQ\n"
     ]
    }
   ],
   "source": [
    "driver = set_driver()\n",
    "login()\n",
    "get_officer_data(companies.iloc[9])"
   ]
  },
  {
   "cell_type": "code",
   "execution_count": null,
   "metadata": {},
   "outputs": [],
   "source": []
  }
 ],
 "metadata": {
  "kernelspec": {
   "display_name": "Python 3",
   "language": "python",
   "name": "python3"
  },
  "language_info": {
   "codemirror_mode": {
    "name": "ipython",
    "version": 3
   },
   "file_extension": ".py",
   "mimetype": "text/x-python",
   "name": "python",
   "nbconvert_exporter": "python",
   "pygments_lexer": "ipython3",
   "version": "3.6.8"
  }
 },
 "nbformat": 4,
 "nbformat_minor": 2
}
